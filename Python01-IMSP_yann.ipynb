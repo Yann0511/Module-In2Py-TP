{
 "cells": [
  {
   "cell_type": "markdown",
   "id": "2d293ef9",
   "metadata": {},
   "source": [
    "# Question 1"
   ]
  },
  {
   "cell_type": "code",
   "execution_count": 18,
   "id": "1f7916f6",
   "metadata": {},
   "outputs": [
    {
     "name": "stdout",
     "output_type": "stream",
     "text": [
      "Entrer le nombre n impair pour la somme : 8\n",
      "Le nombre n doit etre impair pour la somme, reprenez : 5\n",
      "La somme donne :  25\n",
      "Entrer le nombre n pair pour le produit : 7\n",
      "Le nombre n doit etre pair pour le produit, reprenez : 8\n",
      "Le produit donne :  1814400\n"
     ]
    }
   ],
   "source": [
    "somme, produit = 0, 1\n",
    "\n",
    "number= int(input('Entrer le nombre n impair pour la somme : '))\n",
    "while(not number%2):\n",
    "    number= int(input('Le nombre n doit etre impair pour la somme, reprenez : '))\n",
    "\n",
    "i = 0\n",
    "while (i < number):\n",
    "    somme = somme + i + 3\n",
    "    i += 1\n",
    "print(\"La somme donne : \", somme)\n",
    "\n",
    "number= int(input('Entrer le nombre n pair pour le produit : '))\n",
    "while(number%2):\n",
    "    number= int(input('Le nombre n doit etre pair pour le produit, reprenez : '))\n",
    "\n",
    "i = 0\n",
    "while (i < number):\n",
    "    produit = produit * (i + 3)\n",
    "    i += 1\n",
    "\n",
    "print(\"Le produit donne : \", produit)\n"
   ]
  },
  {
   "cell_type": "markdown",
   "id": "dcaad913",
   "metadata": {},
   "source": [
    "# Question 2"
   ]
  },
  {
   "cell_type": "code",
   "execution_count": 14,
   "id": "a5667a41",
   "metadata": {},
   "outputs": [
    {
     "name": "stdout",
     "output_type": "stream",
     "text": [
      "Entrez le numéro du jour : 4\n",
      "Vendredi\n"
     ]
    }
   ],
   "source": [
    "jour = [\"Lundi\", \"Mardi\", \"Mercredi\", \"Jeudi\", \"Vendredi\", \"Samedi\", \"Dimanche\"]\n",
    "\n",
    "numero = int(input(\"Entrez le numéro du jour : \"))\n",
    "\n",
    "while(numero < 0 or numero > 6):\n",
    "    numero = int(input(\"Le numéro doit etre compris entre 0 et 6, reprenez : \"))\n",
    "\n",
    "if(numero < 5):\n",
    "    print(jour[numero])\n",
    "else:\n",
    "    print(\"Weekend\")\n",
    "\n",
    "    "
   ]
  },
  {
   "cell_type": "markdown",
   "id": "08cd2588",
   "metadata": {},
   "source": [
    "# Question 3"
   ]
  },
  {
   "cell_type": "code",
   "execution_count": 16,
   "id": "10ba54e7",
   "metadata": {},
   "outputs": [
    {
     "name": "stdout",
     "output_type": "stream",
     "text": [
      "Entrez le numero du mois : 77\n",
      "Le numéro doit etre compris entre 0 et 11 11\n",
      "Ce mois contient  31 jours\n"
     ]
    }
   ],
   "source": [
    "mois = [31, 28, 31, 30, 31, 30, 31, 31, 30, 31, 30, 31]\n",
    "\n",
    "numero = int(input(\"Entrez le numero du mois : \"))\n",
    "\n",
    "while(numero < 0 or numero >11):\n",
    "    numero = int(input(\"Le numéro doit etre compris entre 0 et 11 \"))\n",
    "    \n",
    "print(\"Ce mois contient \", mois[numero], \"jours\")"
   ]
  },
  {
   "cell_type": "markdown",
   "id": "540d21a5",
   "metadata": {},
   "source": [
    "# Question 4"
   ]
  },
  {
   "cell_type": "markdown",
   "id": "178dd3e5",
   "metadata": {},
   "source": [
    "# 1er Version"
   ]
  },
  {
   "cell_type": "code",
   "execution_count": 20,
   "id": "693ae353",
   "metadata": {},
   "outputs": [
    {
     "name": "stdout",
     "output_type": "stream",
     "text": [
      "Yann\n",
      "Yann\n",
      "Yann\n"
     ]
    }
   ],
   "source": [
    "prenom = \"Yann\"\n",
    "\n",
    "for i in [1, 2, 3]:\n",
    "    print(prenom)"
   ]
  },
  {
   "cell_type": "markdown",
   "id": "f1a3fc17",
   "metadata": {},
   "source": [
    "# 2ème Version"
   ]
  },
  {
   "cell_type": "code",
   "execution_count": 22,
   "id": "b92ccf0f",
   "metadata": {},
   "outputs": [
    {
     "name": "stdout",
     "output_type": "stream",
     "text": [
      "Yann\n",
      "Yann\n",
      "Yann\n"
     ]
    }
   ],
   "source": [
    "prenom = \"Yann\"\n",
    "\n",
    "i = 3\n",
    "\n",
    "while i > 0:\n",
    "    print(prenom)\n",
    "    i -= 1"
   ]
  },
  {
   "cell_type": "markdown",
   "id": "42ae0ed2",
   "metadata": {},
   "source": [
    "# Question 5"
   ]
  },
  {
   "cell_type": "code",
   "execution_count": 27,
   "id": "3ee551c3",
   "metadata": {},
   "outputs": [
    {
     "name": "stdout",
     "output_type": "stream",
     "text": [
      "Entrez a0 : 0\n",
      "Entrez a1 : 1\n",
      "1\n",
      "2\n",
      "3\n",
      "5\n",
      "8\n",
      "13\n",
      "21\n",
      "34\n",
      "55\n",
      "89\n",
      "144\n",
      "233\n",
      "377\n",
      "610\n",
      "987\n"
     ]
    }
   ],
   "source": [
    "a0 = int(input(\"Entrez a0 : \"))\n",
    "\n",
    "a1 = int(input(\"Entrez a1 : \"))\n",
    "\n",
    "for i in range(1 , 16):\n",
    "    suivant = a0 + a1\n",
    "    print(suivant)\n",
    "    a0 = a1\n",
    "    a1 = suivant\n",
    "    "
   ]
  },
  {
   "cell_type": "markdown",
   "id": "44e625d7",
   "metadata": {},
   "source": [
    "# Question 6"
   ]
  },
  {
   "cell_type": "code",
   "execution_count": 31,
   "id": "ce2ea724",
   "metadata": {},
   "outputs": [
    {
     "name": "stdout",
     "output_type": "stream",
     "text": [
      "Entrez x0 : 0\n",
      "Entrez x1 : 1\n",
      "0.5\n",
      "3.25\n",
      "3.125\n",
      "11.3125\n",
      "15.03125\n",
      "41.453125\n",
      "65.8203125\n",
      "157.26953125\n",
      "276.095703125\n",
      "609.8564453125\n",
      "1133.21533203125\n",
      "2396.177001953125\n",
      "4597.7344970703125\n",
      "9487.398254394531\n",
      "18536.902618408203\n",
      "37730.646072387695\n",
      "74476.03089141846\n",
      "150429.9536628723\n",
      "298643.0695056915\n",
      "600611.3957414627\n",
      "1196234.906387806\n",
      "2399951.640418291\n",
      "4788680.539372563\n",
      "9594195.190941155\n",
      "19163139.213588268\n",
      "38364155.1796176\n",
      "76671495.2305736\n",
      "153428213.15413958\n",
      "306728592.2687906\n",
      "613648935.596814\n"
     ]
    }
   ],
   "source": [
    "x = int(input(\"Entrez x0 : \"))\n",
    "\n",
    "y = int(input(\"Entrez x1 : \"))\n",
    "\n",
    "for i in range(1 , 31):\n",
    "    suivant = (x*6 + y)/2\n",
    "    print(suivant)\n",
    "    x = y\n",
    "    y = suivant"
   ]
  },
  {
   "cell_type": "markdown",
   "id": "736b82ca",
   "metadata": {},
   "source": [
    "# Question 7-a"
   ]
  },
  {
   "cell_type": "code",
   "execution_count": 9,
   "id": "5760e906",
   "metadata": {},
   "outputs": [
    {
     "name": "stdout",
     "output_type": "stream",
     "text": [
      "Entrez une année : 2200\n",
      "L'année  2200  n'est pas bissextile\n"
     ]
    }
   ],
   "source": [
    "annee = int(input(\"Entrez une année : \"))\n",
    "\n",
    "if (annee % 4 ==0 and annee % 100 != 0) or (annee % 400 == 0) :\n",
    "    print(\"L'année \", annee, \" est bissextile\")\n",
    "else :\n",
    "    print(\"L'année \", annee, \" n'est pas bissextile\")"
   ]
  },
  {
   "cell_type": "markdown",
   "id": "6465eef8",
   "metadata": {},
   "source": [
    "# Question 8-a"
   ]
  },
  {
   "cell_type": "markdown",
   "id": "5c808eb1",
   "metadata": {},
   "source": [
    "# 1er Version "
   ]
  },
  {
   "cell_type": "code",
   "execution_count": 34,
   "id": "0edbc84e",
   "metadata": {},
   "outputs": [
    {
     "name": "stdout",
     "output_type": "stream",
     "text": [
      "Entrez le  nombre n : 2\n",
      "La somme donne :  5\n"
     ]
    }
   ],
   "source": [
    "n = int(input(\"Entrez le  nombre n : \"))\n",
    "somme = 0\n",
    "\n",
    "for i in range(0, n+1):\n",
    "    somme  = somme + i*i\n",
    "\n",
    "print(\"La somme donne : \", somme)"
   ]
  },
  {
   "cell_type": "markdown",
   "id": "aca2e998",
   "metadata": {},
   "source": [
    "# 2ème version"
   ]
  },
  {
   "cell_type": "code",
   "execution_count": 1,
   "id": "debeea51",
   "metadata": {},
   "outputs": [
    {
     "name": "stdout",
     "output_type": "stream",
     "text": [
      "Entrez le nombre n :2\n",
      "La somme donne : 5\n"
     ]
    }
   ],
   "source": [
    "n = int(input(\"Entrez le nombre n :\"))\n",
    "somme = 0\n",
    "\n",
    "while(n > 0):\n",
    "    somme = somme + n*n\n",
    "    n -= 1\n",
    "\n",
    "print(\"La somme donne :\", somme)"
   ]
  },
  {
   "cell_type": "markdown",
   "id": "86fa0406",
   "metadata": {},
   "source": [
    "# Question 9-a"
   ]
  },
  {
   "cell_type": "code",
   "execution_count": null,
   "id": "95fe99e0",
   "metadata": {},
   "outputs": [],
   "source": [
    "nombre = int(input(\"Entrez un  nombre naturel : \"))\n",
    "\n",
    "for i in range(1, nombre+1):\n",
    "    if(not i % nombre):\n",
    "        print()"
   ]
  },
  {
   "cell_type": "markdown",
   "id": "456305dd",
   "metadata": {},
   "source": [
    "# Question 10"
   ]
  },
  {
   "cell_type": "code",
   "execution_count": 3,
   "id": "df0d957d",
   "metadata": {},
   "outputs": [
    {
     "name": "stdout",
     "output_type": "stream",
     "text": [
      "Entrez l'entier n : 2\n",
      "2  *  0  =  0\n",
      "2  *  1  =  2\n",
      "2  *  2  =  4\n",
      "2  *  3  =  6\n",
      "2  *  4  =  8\n",
      "2  *  5  =  10\n",
      "2  *  6  =  12\n",
      "2  *  7  =  14\n",
      "2  *  8  =  16\n",
      "2  *  9  =  18\n"
     ]
    }
   ],
   "source": [
    "entier = int(input(\"Entrez l'entier n : \"))\n",
    "\n",
    "while(n < 0 or n >9):\n",
    "    entier = int(input(\"C'est pas un entier, reprenez : \"))\n",
    "\n",
    "for i in range(0, 10) :\n",
    "    print(entier, \" * \", i, \" = \", i*entier)"
   ]
  },
  {
   "cell_type": "markdown",
   "id": "dbe1510b",
   "metadata": {},
   "source": [
    "# Question 11"
   ]
  },
  {
   "cell_type": "code",
   "execution_count": 5,
   "id": "baec760d",
   "metadata": {},
   "outputs": [
    {
     "name": "stdout",
     "output_type": "stream",
     "text": [
      "0\n",
      "3\n",
      "6\n",
      "7\n",
      "9\n",
      "11\n",
      "12\n",
      "14\n",
      "15\n",
      "18\n",
      "21\n",
      "22\n",
      "24\n",
      "27\n",
      "28\n",
      "30\n",
      "33\n",
      "35\n",
      "36\n",
      "39\n"
     ]
    }
   ],
   "source": [
    "for i in range(0, 41):\n",
    "    if(not i % 3):\n",
    "        print(i)\n",
    "    \n",
    "    elif(not i % 7):\n",
    "        print(i)\n",
    "    \n",
    "    elif(not i %11):\n",
    "        print (i)\n",
    "        "
   ]
  },
  {
   "cell_type": "markdown",
   "id": "a2a5b1ae",
   "metadata": {},
   "source": [
    "# Question 14"
   ]
  },
  {
   "cell_type": "code",
   "execution_count": 6,
   "id": "5d45f92d",
   "metadata": {},
   "outputs": [
    {
     "name": "stdout",
     "output_type": "stream",
     "text": [
      "Entrez un entier compris entre 0 et 92\n",
      "Entrez un nombre compris entre 0 et 2556\n",
      "0\n",
      "2\n",
      "4\n",
      "6\n",
      "Voulez vous reprendre [y/n] : n\n"
     ]
    }
   ],
   "source": [
    "choix = 'y'\n",
    "\n",
    "while choix == 'y':\n",
    "\n",
    "    x = int(input(\"Entrez un entier compris entre 0 et 9\"))\n",
    "\n",
    "    while(x < 0 and x > 9):\n",
    "        x = int(input(\"Ce n'est pas un entier, reprenez : \"))\n",
    "\n",
    "    max = int(input(\"Entrez un nombre compris entre 0 et 255\"))\n",
    "\n",
    "    while(max < 0 and max > 255):\n",
    "        max = int(input(\"Ce n'est pas correcte, reprenez : \"))\n",
    "\n",
    "    for i in range(0, max + 1):\n",
    "        if(not i % x):\n",
    "            print(i)\n",
    "    choix = input(\"Voulez vous continuez [y/n] : \")\n"
   ]
  }
 ],
 "metadata": {
  "kernelspec": {
   "display_name": "Python 3",
   "language": "python",
   "name": "python3"
  },
  "language_info": {
   "codemirror_mode": {
    "name": "ipython",
    "version": 3
   },
   "file_extension": ".py",
   "mimetype": "text/x-python",
   "name": "python",
   "nbconvert_exporter": "python",
   "pygments_lexer": "ipython3",
   "version": "3.9.5"
  }
 },
 "nbformat": 4,
 "nbformat_minor": 5
}
