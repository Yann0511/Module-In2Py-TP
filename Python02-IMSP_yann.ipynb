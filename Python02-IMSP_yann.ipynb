{
 "cells": [
  {
   "cell_type": "markdown",
   "id": "91daaa81",
   "metadata": {},
   "source": [
    "# Question 1"
   ]
  },
  {
   "cell_type": "code",
   "execution_count": 6,
   "id": "88098a1f",
   "metadata": {},
   "outputs": [
    {
     "name": "stdout",
     "output_type": "stream",
     "text": [
      "Entrez la valeur de x : 2\n",
      "Entrez la valeur de y : 1\n",
      "La valeur de l'expression est :  0.7767005796098572\n"
     ]
    }
   ],
   "source": [
    "import math\n",
    "\n",
    "x = int(input(\"Entrez la valeur de x : \"))\n",
    "y = int(input(\"Entrez la valeur de y : \"))\n",
    "\n",
    "numerateur = math.sqrt(math.pow(x,y+2))\n",
    "denominateur = (1/x) + math.asin(y)*2\n",
    "\n",
    "print(\"La valeur de l'expression est : \", numerateur/denominateur)\n",
    "\n"
   ]
  },
  {
   "cell_type": "markdown",
   "id": "6dd7f071",
   "metadata": {},
   "source": [
    "# Question 2"
   ]
  },
  {
   "cell_type": "code",
   "execution_count": 11,
   "id": "c287e499",
   "metadata": {},
   "outputs": [],
   "source": [
    "def ownpowerfn(b, n):\n",
    "    puissance = b\n",
    "    for i in range(1, n):\n",
    "        puissance = puissance * b\n",
    "    return puissance\n"
   ]
  },
  {
   "cell_type": "code",
   "execution_count": 12,
   "id": "410840ba",
   "metadata": {},
   "outputs": [
    {
     "name": "stdout",
     "output_type": "stream",
     "text": [
      "Entrez la valeur de b : 2\n",
      "Entrez la valeur de n : 1\n",
      "b^n =  2\n"
     ]
    }
   ],
   "source": [
    "#test de ownpowerfn\n",
    "b = int(input(\"Entrez la valeur de b : \"))\n",
    "n = int(input(\"Entrez la valeur de n : \"))\n",
    "\n",
    "while(n < 0):\n",
    "    n = int(input(\"n doit être positive, reprenez : \"))\n",
    "\n",
    "print(\"b^n = \", ownpowerfn(b, n))"
   ]
  },
  {
   "cell_type": "markdown",
   "id": "8b2656c0",
   "metadata": {},
   "source": [
    "# What if we do not specify that n has to be positive?"
   ]
  },
  {
   "cell_type": "code",
   "execution_count": 35,
   "id": "24c480a8",
   "metadata": {},
   "outputs": [],
   "source": [
    "from math import fabs\n",
    "\n",
    "def ownpowerfn(b, n):\n",
    "    puissance = b\n",
    "    if n > 0:\n",
    "        for i in range(1, n):\n",
    "            puissance = puissance * b\n",
    "        return puissance\n",
    "    \n",
    "    elif(n < 0):\n",
    "        puissance = 1\n",
    "        for i in range(0, int(math.fabs(float(n)))):\n",
    "            puissance = puissance / b\n",
    "        return puissance\n",
    "    else:\n",
    "        return 1"
   ]
  },
  {
   "cell_type": "code",
   "execution_count": 33,
   "id": "f1cc29c8",
   "metadata": {},
   "outputs": [
    {
     "name": "stdout",
     "output_type": "stream",
     "text": [
      "Entrez la valeur de b : 5\n",
      "Entrez la valeur de n : -9\n",
      "5 ^ -9  =  5.120000000000001e-07\n"
     ]
    }
   ],
   "source": [
    "#test de ownpowerfn\n",
    "b = int(input(\"Entrez la valeur de b : \"))\n",
    "n = int(input(\"Entrez la valeur de n : \"))\n",
    "\n",
    "print(b, \"^\",n,\" = \", ownpowerfn(b, n))"
   ]
  },
  {
   "cell_type": "markdown",
   "id": "e8c93625",
   "metadata": {},
   "source": [
    "# Question 3-a"
   ]
  },
  {
   "cell_type": "code",
   "execution_count": 37,
   "id": "8bb749e4",
   "metadata": {},
   "outputs": [],
   "source": [
    "def arithmetic_mean(a, b):\n",
    "    return (a + b) / 2"
   ]
  },
  {
   "cell_type": "code",
   "execution_count": 38,
   "id": "3d1248b0",
   "metadata": {},
   "outputs": [],
   "source": [
    "from math import sqrt\n",
    "def geometric_mean(a, b):\n",
    "    return math.sqrt(a*b)"
   ]
  },
  {
   "cell_type": "code",
   "execution_count": 39,
   "id": "5189d23c",
   "metadata": {},
   "outputs": [
    {
     "name": "stdout",
     "output_type": "stream",
     "text": [
      "La moyenne arithmetique de 3 et 4 est :  3.5\n",
      "La moyenne geométrique de 3 et 4 est :  3.4641016151377544\n"
     ]
    }
   ],
   "source": [
    "# test des deux fonction\n",
    "\n",
    "print(\"La moyenne arithmetique de 3 et 4 est : \", arithmetic_mean(3, 4))\n",
    "print(\"La moyenne geométrique de 3 et 4 est : \", geometric_mean(3, 4))"
   ]
  },
  {
   "cell_type": "markdown",
   "id": "7c752e87",
   "metadata": {},
   "source": [
    "# Question 3-b"
   ]
  },
  {
   "cell_type": "code",
   "execution_count": 47,
   "id": "96db26ba",
   "metadata": {},
   "outputs": [],
   "source": [
    "def celcius_to_fahrenheit(celsius):\n",
    "    fahrenheit = (celsius * 9/5) + 32\n",
    "    print('%.2f Celsius est égale à: %0.2f Fahrenheit' %(celsius, fahrenheit))"
   ]
  },
  {
   "cell_type": "code",
   "execution_count": 49,
   "id": "9f141236",
   "metadata": {},
   "outputs": [],
   "source": [
    "def fahrenheit_to_celcius(fahrenheit):\n",
    "    celsius = (fahrenheit - 32) * 5/9\n",
    "    print('%.2f Fahrenheit est egale à: %0.2f Celsius' %(fahrenheit, celsius))\n",
    "    "
   ]
  },
  {
   "cell_type": "code",
   "execution_count": 50,
   "id": "0d88d5d9",
   "metadata": {},
   "outputs": [
    {
     "name": "stdout",
     "output_type": "stream",
     "text": [
      "98.00 Celsius est égale à: 208.40 Fahrenheit\n",
      "999.00 Fahrenheit est egale à: 537.22 Celsius\n"
     ]
    }
   ],
   "source": [
    "# pour tester la fonction\n",
    "\n",
    "celcius_to_fahrenheit(98)\n",
    "fahrenheit_to_celcius(999)\n"
   ]
  },
  {
   "cell_type": "markdown",
   "id": "8d9edf96",
   "metadata": {},
   "source": [
    "# Question 3-c"
   ]
  },
  {
   "cell_type": "code",
   "execution_count": 55,
   "id": "5b798d87",
   "metadata": {},
   "outputs": [],
   "source": [
    "from math import pi\n",
    "def degrees_to_radians(deg):\n",
    "    radian = deg * math.pi/180\n",
    "    print('%.2f degree est egale à: %0.2f radian' %(deg, radian))\n"
   ]
  },
  {
   "cell_type": "code",
   "execution_count": 57,
   "id": "1af959d0",
   "metadata": {},
   "outputs": [],
   "source": [
    "from math import pi\n",
    "def radians_to_degrees(rad):\n",
    "    degrees = rad * 180/math.pi\n",
    "    print('%.2f radian est egale à: %0.2f degree' %(rad, degrees))"
   ]
  },
  {
   "cell_type": "code",
   "execution_count": 59,
   "id": "33b919ae",
   "metadata": {},
   "outputs": [
    {
     "name": "stdout",
     "output_type": "stream",
     "text": [
      "60.00 degree est egale à: 1.05 radian\n",
      "2.00 radian est egale à: 114.59 degree\n"
     ]
    }
   ],
   "source": [
    "# test des deux fonction\n",
    "\n",
    "degrees_to_radians(60)\n",
    "radians_to_degrees(2)"
   ]
  },
  {
   "cell_type": "markdown",
   "id": "ead352db",
   "metadata": {},
   "source": [
    "# Question 3-d"
   ]
  },
  {
   "cell_type": "code",
   "execution_count": 61,
   "id": "df59eb28",
   "metadata": {},
   "outputs": [],
   "source": [
    "from math import pi\n",
    "from math import pow\n",
    "def circumference_and_aire(radius):\n",
    "    print(\"La circonférence de votre cercle est : \", 2 * math.pi * radius)\n",
    "    print(\"L'aire de votre cercle est : \", math.pow(radius, 2) * math.pi)"
   ]
  },
  {
   "cell_type": "code",
   "execution_count": 62,
   "id": "7ef4e10c",
   "metadata": {},
   "outputs": [
    {
     "name": "stdout",
     "output_type": "stream",
     "text": [
      "La circonférence de votre cercle est :  25.132741228718345\n",
      "L'aire de votre cercle est :  50.26548245743669\n"
     ]
    }
   ],
   "source": [
    "# test de la fonction\n",
    "circumference_and_aire(4)"
   ]
  },
  {
   "cell_type": "markdown",
   "id": "400feb11",
   "metadata": {},
   "source": [
    "# Question 4-a"
   ]
  },
  {
   "cell_type": "code",
   "execution_count": 64,
   "id": "3bc890f8",
   "metadata": {},
   "outputs": [],
   "source": [
    "def arithmetic_mean(a, b):\n",
    "    return (a + b) / 2"
   ]
  },
  {
   "cell_type": "code",
   "execution_count": 65,
   "id": "b5b4262a",
   "metadata": {},
   "outputs": [],
   "source": [
    "from math import sqrt\n",
    "def geometric_mean(a, b):\n",
    "    return math.sqrt(a*b)"
   ]
  },
  {
   "cell_type": "code",
   "execution_count": 66,
   "id": "e2523f79",
   "metadata": {},
   "outputs": [
    {
     "name": "stdout",
     "output_type": "stream",
     "text": [
      "La moyenne arithmetique de 3 et 4 est :  3.5\n",
      "La moyenne geométrique de 3 et 4 est :  3.4641016151377544\n"
     ]
    }
   ],
   "source": [
    "print(\"La moyenne arithmetique de 3 et 4 est : \", arithmetic_mean(3, 4))\n",
    "print(\"La moyenne geométrique de 3 et 4 est : \", geometric_mean(3, 4))"
   ]
  },
  {
   "cell_type": "code",
   "execution_count": 68,
   "id": "8518d242",
   "metadata": {},
   "outputs": [],
   "source": [
    "def avggeom(a, b):\n",
    "    ma = a\n",
    "    mg = b\n",
    "    print(\"a = \", a, \"et b = \", b)\n",
    "    \n",
    "    for i in range(1, 11):\n",
    "        ma = arithmetic_mean(a, b)\n",
    "        mb = geometric_mean(a, b)\n",
    "        print(\"Moyenne arithmetique : \", ma, \"Moyenne geometrique : \", mb)\n",
    "        a = ma\n",
    "        b = mb"
   ]
  },
  {
   "cell_type": "code",
   "execution_count": 70,
   "id": "d9d79bc0",
   "metadata": {},
   "outputs": [
    {
     "name": "stdout",
     "output_type": "stream",
     "text": [
      "a =  1 et b =  2\n",
      "Moyenne arithmetique :  1.5 Moyenne geometrique :  1.4142135623730951\n",
      "Moyenne arithmetique :  1.4571067811865475 Moyenne geometrique :  1.4564753151219703\n",
      "Moyenne arithmetique :  1.4567910481542587 Moyenne geometrique :  1.456791013939555\n",
      "Moyenne arithmetique :  1.4567910310469068 Moyenne geometrique :  1.4567910310469068\n",
      "Moyenne arithmetique :  1.4567910310469068 Moyenne geometrique :  1.4567910310469068\n",
      "Moyenne arithmetique :  1.4567910310469068 Moyenne geometrique :  1.4567910310469068\n",
      "Moyenne arithmetique :  1.4567910310469068 Moyenne geometrique :  1.4567910310469068\n",
      "Moyenne arithmetique :  1.4567910310469068 Moyenne geometrique :  1.4567910310469068\n",
      "Moyenne arithmetique :  1.4567910310469068 Moyenne geometrique :  1.4567910310469068\n",
      "Moyenne arithmetique :  1.4567910310469068 Moyenne geometrique :  1.4567910310469068\n"
     ]
    }
   ],
   "source": [
    "# test de la fonction \n",
    "\n",
    "avggeom(1 , 2)"
   ]
  },
  {
   "cell_type": "markdown",
   "id": "fe9abffc",
   "metadata": {},
   "source": [
    "# Question 4-b"
   ]
  },
  {
   "cell_type": "code",
   "execution_count": 71,
   "id": "6f9059c7",
   "metadata": {},
   "outputs": [],
   "source": [
    "from math import sqrt\n",
    "from math import pow\n",
    "\n",
    "def distancefn(point1, point2):\n",
    "    return math.sqrt((math.pow(point1[0]-point2[0], 2) + math.pow(point1[1]-point2[1], 2)))\n",
    "    "
   ]
  },
  {
   "cell_type": "code",
   "execution_count": 76,
   "id": "ec2410ca",
   "metadata": {},
   "outputs": [
    {
     "name": "stdout",
     "output_type": "stream",
     "text": [
      "Le périmetre du triangle est :  10.79669127533634\n",
      "L'aire du triangle est :  25.00000000000003\n"
     ]
    }
   ],
   "source": [
    "point1 = [2 , 4]\n",
    "point2 = [-1, 5]\n",
    "point3 = [0, 8]\n",
    "\n",
    "cote1 = distancefn(point1, point2)\n",
    "cote2 = distancefn(point1, point3)\n",
    "cote3 = distancefn(point2, point3)\n",
    "\n",
    "p =  cote1 + cote2 + cote3\n",
    "aire = p/2 * (p/2 - cote1) * (p/2 - cote2) * (p/2 - cote3)\n",
    "print('Le périmetre du triangle est : ', p)\n",
    "print(\"L'aire du triangle est : \", aire)\n"
   ]
  },
  {
   "cell_type": "markdown",
   "id": "dd711da3",
   "metadata": {},
   "source": [
    "# Question 5"
   ]
  },
  {
   "cell_type": "code",
   "execution_count": 79,
   "id": "e89ca618",
   "metadata": {},
   "outputs": [],
   "source": [
    "from math import factorial\n",
    "\n",
    "def fact2nddeg():\n",
    "    choix = 3\n",
    "    \n",
    "    while(choix < 3):\n",
    "        print(\"1- Evaluation of actorial\")\n",
    "        print(\"2-Evaluation of a second degree equation\")\n",
    "        print(\"3- Exit\")\n",
    "        choix = int(input(\"Votre choix : \"))\n",
    "        while choix < 1 or choix > 3:\n",
    "            choix = int(input(\"Votre choix(1 , 2 ou 3) : \"))\n",
    "        \n",
    "        if choix == 1:\n",
    "            nombre = int(input(\"Entrez le nombre dont vous voulez calculer le factoriel : \"))\n",
    "            if nombre < 0:\n",
    "                print(\"Le factoriel d'un nombre négative n'existe pas\")\n",
    "            else:\n",
    "                print(\"Le factoriel de \", nombre, \" est : \", math.factorial(nombre))\n",
    "        \n",
    "        elif choix == 2:\n",
    "            print(\"\")\n",
    "        \n",
    "        else:\n",
    "            return 0"
   ]
  },
  {
   "cell_type": "markdown",
   "id": "ac0876a8",
   "metadata": {},
   "source": [
    "# Question 6"
   ]
  },
  {
   "cell_type": "code",
   "execution_count": 80,
   "id": "f7c6e750",
   "metadata": {},
   "outputs": [],
   "source": [
    "def power(x, n):\n",
    "    if n == 0:\n",
    "        return 1\n",
    "    else:\n",
    "        return x * power(x, n - 1)"
   ]
  },
  {
   "cell_type": "code",
   "execution_count": 84,
   "id": "0e8c1a8a",
   "metadata": {},
   "outputs": [
    {
     "name": "stdout",
     "output_type": "stream",
     "text": [
      "Entrez la valeur de x : 5\n",
      "Entrez la valeur de n : 4\n",
      "5 ^  4  =  625\n"
     ]
    }
   ],
   "source": [
    "#test de la fonction\n",
    "\n",
    "x = int(input(\"Entrez la valeur de x : \"))\n",
    "n = int(input(\"Entrez la valeur de n : \"))\n",
    "\n",
    "while n < 0:\n",
    "    n = int(input(\"n est un entier naturel, reprenez : \"))\n",
    "\n",
    "print(x, \"^ \", n, \" = \", power(x, n))"
   ]
  },
  {
   "cell_type": "markdown",
   "id": "216a0260",
   "metadata": {},
   "source": [
    "# Question 7"
   ]
  },
  {
   "cell_type": "code",
   "execution_count": 92,
   "id": "2ca7bac6",
   "metadata": {},
   "outputs": [],
   "source": [
    "def fibonacci(n):\n",
    "    n1 = 0\n",
    "    n2 = 1 \n",
    "    \n",
    "    for i in range(2, n):\n",
    "        suivant = n1 + n2\n",
    "        #print(suivant, end=\", \")\n",
    " \n",
    "        n1 = n2\n",
    "        n2 = suivant"
   ]
  },
  {
   "cell_type": "code",
   "execution_count": 93,
   "id": "67c8e8f4",
   "metadata": {},
   "outputs": [],
   "source": [
    "fibonacci(100)"
   ]
  }
 ],
 "metadata": {
  "kernelspec": {
   "display_name": "Python 3",
   "language": "python",
   "name": "python3"
  },
  "language_info": {
   "codemirror_mode": {
    "name": "ipython",
    "version": 3
   },
   "file_extension": ".py",
   "mimetype": "text/x-python",
   "name": "python",
   "nbconvert_exporter": "python",
   "pygments_lexer": "ipython3",
   "version": "3.9.5"
  }
 },
 "nbformat": 4,
 "nbformat_minor": 5
}
