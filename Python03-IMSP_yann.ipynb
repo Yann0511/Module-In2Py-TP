{
 "cells": [
  {
   "cell_type": "markdown",
   "metadata": {},
   "source": [
    "# <center style=\"color: green\"><b>Python03-IMSP</b></center>"
   ]
  },
  {
   "cell_type": "markdown",
   "metadata": {},
   "source": [
    "### <b>1- </b>"
   ]
  },
  {
   "cell_type": "markdown",
   "metadata": {},
   "source": [
    "<b> a- </b>"
   ]
  },
  {
   "cell_type": "code",
   "execution_count": 9,
   "metadata": {},
   "outputs": [],
   "source": [
    "def M(chaine1, chaine2):\n",
    "    i = j = k = 0\n",
    "    chaine = ''\n",
    "    while k < len(chaine1) + len(chaine2):\n",
    "        if i < len(chaine1) and j < len(chaine2):\n",
    "            if str(chaine1[i]) < str(chaine2[j]):\n",
    "                chaine += str(chaine1[i])\n",
    "                i += 1\n",
    "            else:\n",
    "                chaine += str(chaine2[j])\n",
    "                j += 1\n",
    "        k += 1\n",
    "        \n",
    "    if i == len(chaine1) and j < len(chaine2):\n",
    "        chaine += chaine2[j:]\n",
    "    elif j == len(chaine2) and i < len(chaine1):\n",
    "        chaine += chaine1[i:]\n",
    "        \n",
    "    return chaine"
   ]
  },
  {
   "cell_type": "code",
   "execution_count": 10,
   "metadata": {},
   "outputs": [
    {
     "data": {
      "text/plain": [
       "'abcdghxz'"
      ]
     },
     "execution_count": 10,
     "metadata": {},
     "output_type": "execute_result"
    }
   ],
   "source": [
    "M('axz', 'bcdgh')"
   ]
  },
  {
   "cell_type": "markdown",
   "metadata": {},
   "source": [
    "<b> b- </b>"
   ]
  },
  {
   "cell_type": "code",
   "execution_count": 11,
   "metadata": {},
   "outputs": [
    {
     "data": {
      "text/plain": [
       "'abbccddd'"
      ]
     },
     "execution_count": 11,
     "metadata": {},
     "output_type": "execute_result"
    }
   ],
   "source": [
    "M('bdd', 'abccd')"
   ]
  },
  {
   "cell_type": "markdown",
   "metadata": {},
   "source": [
    "<b> c- </b>"
   ]
  },
  {
   "cell_type": "code",
   "execution_count": 12,
   "metadata": {},
   "outputs": [],
   "source": [
    "def S(ch):\n",
    "    if len(ch) == 1:\n",
    "        return ch\n",
    "    \n",
    "    elif len(ch) == 2:\n",
    "        return M(ch[:1], ch[1:])\n",
    "    \n",
    "    else: \n",
    "        ch1 = S(ch[:int(len(ch)/2)])\n",
    "        ch2 = S(ch[int(len(ch)/2):])\n",
    "        return M(ch1, ch2)"
   ]
  },
  {
   "cell_type": "code",
   "execution_count": 7,
   "metadata": {},
   "outputs": [
    {
     "data": {
      "text/plain": [
       "'aaaabdfggjmmnnooruzz'"
      ]
     },
     "execution_count": 7,
     "metadata": {},
     "output_type": "execute_result"
    }
   ],
   "source": [
    "S('bonjourmdgfzazagaman')"
   ]
  },
  {
   "cell_type": "markdown",
   "metadata": {},
   "source": [
    "<b> d-  </b>"
   ]
  },
  {
   "cell_type": "code",
   "execution_count": 14,
   "metadata": {},
   "outputs": [],
   "source": [
    "def M_(ch1, ch2):\n",
    "    return M(S(ch1), S(ch2))"
   ]
  },
  {
   "cell_type": "code",
   "execution_count": 15,
   "metadata": {},
   "outputs": [
    {
     "data": {
      "text/plain": [
       "' aabbbbdghhhijjmmnnooorsuuvz'"
      ]
     },
     "execution_count": 15,
     "metadata": {},
     "output_type": "execute_result"
    }
   ],
   "source": [
    "M_('bonjour maman', 'vhdsbgjhbzoiuhb')"
   ]
  },
  {
   "cell_type": "markdown",
   "metadata": {},
   "source": [
    "<b> e- </b>"
   ]
  },
  {
   "cell_type": "markdown",
   "metadata": {},
   "source": [
    "<b> (i) </b>"
   ]
  },
  {
   "cell_type": "code",
   "execution_count": 16,
   "metadata": {},
   "outputs": [],
   "source": [
    "def findvowel(chaine):\n",
    "    L = []\n",
    "    for i in chaine:\n",
    "        if i in 'AaEeIiOoUuYy':\n",
    "            L.append(i)\n",
    "    if len(L) > 0:\n",
    "        print('The first vowel in the sentence is:', L[0])\n",
    "    else:\n",
    "        print('There are no voawel in this sentence')"
   ]
  },
  {
   "cell_type": "code",
   "execution_count": 17,
   "metadata": {},
   "outputs": [
    {
     "name": "stdout",
     "output_type": "stream",
     "text": [
      "There are no voawel in this sentence\n"
     ]
    }
   ],
   "source": [
    "findvowel('Bhhhhh')"
   ]
  },
  {
   "cell_type": "markdown",
   "metadata": {},
   "source": [
    "<b> (ii) </b>"
   ]
  },
  {
   "cell_type": "code",
   "execution_count": 34,
   "metadata": {},
   "outputs": [],
   "source": [
    "def isVowel(x):\n",
    "    if x in 'AaEeIiOoUuYy':\n",
    "        return True\n",
    "    return False\n",
    "\n",
    "def vowelCount(chaine):\n",
    "    k = 0\n",
    "    L = []\n",
    "    for i in chaine:\n",
    "        if isVowel(i):\n",
    "            k += 1\n",
    "    return k"
   ]
  },
  {
   "cell_type": "code",
   "execution_count": 35,
   "metadata": {},
   "outputs": [
    {
     "data": {
      "text/plain": [
       "5"
      ]
     },
     "execution_count": 35,
     "metadata": {},
     "output_type": "execute_result"
    }
   ],
   "source": [
    "vowelCount('Bonjour maman')"
   ]
  },
  {
   "cell_type": "markdown",
   "metadata": {},
   "source": [
    "<b> (iii)  </b>"
   ]
  },
  {
   "cell_type": "code",
   "execution_count": 24,
   "metadata": {},
   "outputs": [],
   "source": [
    "def letterOnUpperCase():\n",
    "    while True:\n",
    "        ch = input('Entrez une lettre: ')\n",
    "        if ch.isdigit():\n",
    "            print('Au revoir')\n",
    "            break\n",
    "        ch = ch[:1].capitalize()\n",
    "        print(ch)"
   ]
  },
  {
   "cell_type": "code",
   "execution_count": null,
   "metadata": {},
   "outputs": [
    {
     "name": "stdout",
     "output_type": "stream",
     "text": [
      "Entrez une lettre: BHVIOZUAEHNU\"NVJ NAKJHJIF JQYGZU_GA\n",
      "B\n",
      "Entrez une lettre: bhjszbhujcfb jzhbgrfb vba\n",
      "B\n",
      "Entrez une lettre:  \n",
      " \n",
      "Entrez une lettre: j\n"
     ]
    }
   ],
   "source": [
    "letterOnUpperCase()"
   ]
  },
  {
   "cell_type": "markdown",
   "metadata": {},
   "source": [
    "<b> (vi) </b>"
   ]
  },
  {
   "cell_type": "code",
   "execution_count": 22,
   "metadata": {},
   "outputs": [],
   "source": [
    "def firstletterOnUpperCase(ch):\n",
    "    L = ch.split(' ')\n",
    "    chaine = ''\n",
    "    for i in L:\n",
    "        chaine += ' '+ i.capitalize()\n",
    "    return chaine"
   ]
  },
  {
   "cell_type": "code",
   "execution_count": 23,
   "metadata": {},
   "outputs": [
    {
     "name": "stdout",
     "output_type": "stream",
     "text": [
      "Entrez une phrase: antuny\n"
     ]
    },
    {
     "data": {
      "text/plain": [
       "' Antuny'"
      ]
     },
     "execution_count": 23,
     "metadata": {},
     "output_type": "execute_result"
    }
   ],
   "source": [
    "firstletterOnUpperCase(input('Entrez une phrase: '))"
   ]
  },
  {
   "cell_type": "markdown",
   "metadata": {},
   "source": [
    "<b> (vii) </b>"
   ]
  },
  {
   "cell_type": "code",
   "execution_count": 19,
   "metadata": {},
   "outputs": [],
   "source": [
    "def isPalindrone(ch):\n",
    "    if ch.upper() == ch[::-1].upper():\n",
    "        return ch, 'is a palindrone'\n",
    "    else :\n",
    "        return ch, \"isn't a palindrone\""
   ]
  },
  {
   "cell_type": "code",
   "execution_count": 25,
   "metadata": {},
   "outputs": [
    {
     "name": "stdout",
     "output_type": "stream",
     "text": [
      "Entrez une phrase : Agga Faaf\n"
     ]
    },
    {
     "data": {
      "text/plain": [
       "('Agga Faaf', \"isn't a palindrone\")"
      ]
     },
     "execution_count": 25,
     "metadata": {},
     "output_type": "execute_result"
    }
   ],
   "source": [
    "sentence = input('Entrez une phrase : ')\n",
    "isPalindrone(sentence)"
   ]
  },
  {
   "cell_type": "markdown",
   "metadata": {},
   "source": [
    "<b> (viii)  </b>"
   ]
  },
  {
   "cell_type": "code",
   "execution_count": 4,
   "metadata": {},
   "outputs": [],
   "source": [
    "def howmanyisworld(text, word):\n",
    "    j = 0\n",
    "    L = text.upper().split(' ')\n",
    "    for i in L:\n",
    "        if i == word.upper():\n",
    "            j += 1\n",
    "    print(word, 'appears', j, 'time(s)')"
   ]
  },
  {
   "cell_type": "code",
   "execution_count": 5,
   "metadata": {},
   "outputs": [
    {
     "name": "stdout",
     "output_type": "stream",
     "text": [
      "paPa appears 1 time(s)\n"
     ]
    }
   ],
   "source": [
    "howmanyisworld(' inutile Papa', 'paPa')"
   ]
  },
  {
   "cell_type": "markdown",
   "metadata": {},
   "source": [
    "<b> (f)  </b>"
   ]
  },
  {
   "cell_type": "code",
   "execution_count": 16,
   "metadata": {},
   "outputs": [],
   "source": [
    "score = (1, 2, 3, 4, 5, 6, 7, 8, 9, 10)"
   ]
  },
  {
   "cell_type": "code",
   "execution_count": 2,
   "metadata": {},
   "outputs": [
    {
     "name": "stdout",
     "output_type": "stream",
     "text": [
      "The lowest possible score is {}, and the highest possible score is {}.\n"
     ]
    }
   ],
   "source": [
    "print(\"The lowest possible score is {}, and the highest possible score is {}.\")"
   ]
  },
  {
   "cell_type": "code",
   "execution_count": null,
   "metadata": {},
   "outputs": [],
   "source": []
  }
 ],
 "metadata": {
  "kernelspec": {
   "display_name": "Python 3",
   "language": "python",
   "name": "python3"
  },
  "language_info": {
   "codemirror_mode": {
    "name": "ipython",
    "version": 3
   },
   "file_extension": ".py",
   "mimetype": "text/x-python",
   "name": "python",
   "nbconvert_exporter": "python",
   "pygments_lexer": "ipython3",
   "version": "3.8.8"
  }
 },
 "nbformat": 4,
 "nbformat_minor": 4
}
