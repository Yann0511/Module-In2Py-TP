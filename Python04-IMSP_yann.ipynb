{
 "cells": [
  {
   "cell_type": "markdown",
   "id": "3cb4a6a5",
   "metadata": {},
   "source": [
    "# Question 1"
   ]
  },
  {
   "cell_type": "code",
   "execution_count": null,
   "id": "da4dfcfb",
   "metadata": {},
   "outputs": [],
   "source": [
    "produit = {}\n",
    "choix = 1\n",
    "while(choix < 4):\n",
    "    print(\"========= MENU ===========\")\n",
    "    print(\"1- Ajouter un nouveau produit\")\n",
    "    print(\"2- Changer le prix d'un produit\")\n",
    "    print(\"3- Consulter le prix d'un produit\")\n",
    "    print(\"4- Quitter\")\n",
    "    \n",
    "    choix = int(input(\"\\n\\tVotre choix : \"))\n",
    "    \n",
    "    while(choix < 1 or choix > 5):\n",
    "        choix = int(input(\"Mauvaise valeur, reprenez : \"))\n",
    "    \n",
    "    if choix == 1:\n",
    "        nom_produit = input(\"Entrez le nom du nouveau produit : \")\n",
    "        if(nom_produit in produit):\n",
    "            print(\"\\t### Ce produit existe deja ###\")\n",
    "        else:\n",
    "            prix_produit = int(input(\"Entre le prix du nouveau produit : \"))\n",
    "            produit[nom_produit] = prix_produit\n",
    "            print(\"\\t### Produit enregistré avec succès ###\")\n",
    "    \n",
    "    elif choix == 2:\n",
    "        nom_produit = input(\"Entrez le nom du produit : \")\n",
    "        if(nom_produit in produit):\n",
    "            prix_produit = int(input(\"Entre le nouveau prix du produit : \"))\n",
    "            produit[nom_produit] = prix_produit\n",
    "            print(\"\\t### Prix changé avec succès ###\")\n",
    "        else:\n",
    "            print(\"\\t### Ce produit n'existe pas ###\")\n",
    "    \n",
    "    elif choix == 3:\n",
    "        nom_produit = input(\"Entrez le nom du produit : \")\n",
    "        if(nom_produit in produit):\n",
    "            print(\"\\tLe prix de ce produit est : \", produit[nom_produit])\n",
    "        else:\n",
    "            print(\"\\t### Ce produit n'existe pas ###\")\n",
    "\n",
    "\n",
    "print(produit)\n",
    "        "
   ]
  },
  {
   "cell_type": "markdown",
   "id": "c04a28a9",
   "metadata": {},
   "source": [
    "# Question 2"
   ]
  },
  {
   "cell_type": "code",
   "execution_count": null,
   "id": "cb52ebde",
   "metadata": {},
   "outputs": [],
   "source": [
    "liste_telephonique = {}\n",
    "choix = 1\n",
    "while(choix < 5):\n",
    "    print(\"========= MENU ===========\")\n",
    "    print(\"1- Ajouter un nouveau nom et son telephone\")\n",
    "    print(\"2- Rechercher un téléphone à partir du nom du propriétaire\")\n",
    "    print(\"3- Rechercher le nom du propriétaire à  partir du téléphone \")\n",
    "    print(\"4- Imprimer la liste complete des téléphones\")\n",
    "    print(\"5- Quitter\")\n",
    "    \n",
    "    choix = int(input(\"\\n\\tVotre choix : \"))\n",
    "    \n",
    "    while(choix < 1 or choix > 6):\n",
    "        choix = int(input(\"Mauvaise valeur, reprenez : \"))\n",
    "    \n",
    "    if choix == 1:\n",
    "        nom = input(\"Entrez le nom : \")\n",
    "        if(nom in liste_telephonique):\n",
    "            print(\"\\t### Ce nom possède un téléphone déja ###\")\n",
    "        else:\n",
    "            telephone = input(\"Entrez le téléphone : \")\n",
    "            controle = 0\n",
    "            \n",
    "            for value in liste_telephonique.values():\n",
    "                if(value == telephone):\n",
    "                    controle = 1\n",
    "                    print(\"\\t### Ce téléphone existe deja ###\")\n",
    "            \n",
    "            if controle == 0:\n",
    "                liste_telephonique[nom] = telephone\n",
    "                print(\"\\t### Téléphone enregistré avec succès ###\")\n",
    "            \n",
    "    elif choix == 2:\n",
    "        nom = input(\"Entrez le nom : \")\n",
    "        if(nom in liste_telephonique):\n",
    "            print(\"\\tLe télephone de \", nom, \" est : \", liste_telephonique[telephone])\n",
    "        else:\n",
    "            print(\"\\t### Ce nom n'est pas dans la liste ###\")\n",
    "    \n",
    "    elif choix == 3:\n",
    "        controle = 0\n",
    "        telephone = input(\"Entrez le téléphone : \")\n",
    "        for key in liste_telephonique.keys():\n",
    "            if liste_telephonique[key] == telephone:\n",
    "                controle = 1\n",
    "                print(\"\\t Le propriétaire de ce numéro est : \", key)\n",
    "        if controle == 0:\n",
    "            print(\"\\t### Ce téléphone n'est pas dans la liste\")\n",
    "                \n",
    "        \n",
    "    elif choix == 4:\n",
    "        i = 1\n",
    "        print(\"---------- Liste complete des téléphones ------------\")\n",
    "        for key in liste_telephonique:\n",
    "            print(i, \"- \", key, \" : \", liste_telephonique[key])\n",
    "    \n",
    "print(\"Fin du programme\")"
   ]
  },
  {
   "cell_type": "markdown",
   "id": "59fd8896",
   "metadata": {},
   "source": [
    "# Question 3"
   ]
  },
  {
   "cell_type": "code",
   "execution_count": 19,
   "id": "a6fea932",
   "metadata": {},
   "outputs": [
    {
     "name": "stdout",
     "output_type": "stream",
     "text": [
      "['Yann', 'Kelly', 'Fleur', 'David']\n",
      "[4, 5, 5, 5]\n"
     ]
    }
   ],
   "source": [
    "mots = [\"Yann\", \"Kelly\", \"Fleur\", \"David\"]\n",
    "\n",
    "print(mots)\n",
    "\n",
    "for i in range(0, len(mots)):\n",
    "    mots[i] = len(mots[i])\n",
    "\n",
    "print(mots)"
   ]
  },
  {
   "cell_type": "markdown",
   "id": "af698bd3",
   "metadata": {},
   "source": [
    "# Qestion 4"
   ]
  },
  {
   "cell_type": "code",
   "execution_count": 21,
   "id": "afa878b4",
   "metadata": {},
   "outputs": [
    {
     "name": "stdout",
     "output_type": "stream",
     "text": [
      "La longueur du plus long est :  5\n"
     ]
    }
   ],
   "source": [
    "def find_longest_word(liste):\n",
    "    max = 0\n",
    "    \n",
    "    for i in range(0, len(liste)):\n",
    "        if len(liste[i]) > max:\n",
    "            max = len(liste[i])\n",
    "    return max\n",
    "\n",
    "liste = [\"Yann\", \"Kelly\", \"Fleur\", \"David\"]\n",
    "\n",
    "print(\"La longueur du plus long est : \", find_longest_word(liste))"
   ]
  },
  {
   "cell_type": "markdown",
   "id": "58c68502",
   "metadata": {},
   "source": [
    "# Question 5"
   ]
  },
  {
   "cell_type": "code",
   "execution_count": 22,
   "id": "411032d6",
   "metadata": {},
   "outputs": [
    {
     "name": "stdout",
     "output_type": "stream",
     "text": [
      "------ En anglais ---------\n",
      "['merry', 'christmas', 'happy', 'new']\n",
      "------ En suédois ----------\n",
      "['god', 'jul', 'gott', 'nytt']\n"
     ]
    }
   ],
   "source": [
    "def translate(liste):\n",
    "    dict = {\"merry\":\"god\", \"christmas\":\"jul\", \"and\":\"och\", \"happy\":\"gott\", \"new\":\"nytt\", \"year\":\"ar\"}\n",
    "    \n",
    "    for i in range(0, len(liste)):\n",
    "        for key in dict.keys():\n",
    "            if key == liste[i]:\n",
    "                liste[i] = dict[key]\n",
    "    return liste\n",
    "\n",
    "liste = [\"merry\", \"christmas\", \"happy\", \"new\"]\n",
    "\n",
    "print(\"------ En anglais ---------\")\n",
    "print(liste)\n",
    "\n",
    "print(\"------ En suédois ----------\")\n",
    "print(translate(liste))"
   ]
  },
  {
   "cell_type": "markdown",
   "id": "55c6562d",
   "metadata": {},
   "source": [
    "# Question 6"
   ]
  },
  {
   "cell_type": "code",
   "execution_count": 26,
   "id": "7182fbd3",
   "metadata": {},
   "outputs": [
    {
     "data": {
      "text/plain": [
       "True"
      ]
     },
     "execution_count": 26,
     "metadata": {},
     "output_type": "execute_result"
    }
   ],
   "source": [
    "def is_member(x, a):\n",
    "    for i in range(0, len(a)):\n",
    "        if(a[i] == x):\n",
    "            return True\n",
    "        \n",
    "    return False\n",
    "\n",
    "is_member(5, [\"225\", 5, \"Yann\"])"
   ]
  },
  {
   "cell_type": "markdown",
   "id": "e72f3f05",
   "metadata": {},
   "source": [
    "# Question 7"
   ]
  },
  {
   "cell_type": "code",
   "execution_count": 2,
   "id": "5a34aee9",
   "metadata": {},
   "outputs": [
    {
     "ename": "AttributeError",
     "evalue": "'str' object has no attribute 'append'",
     "output_type": "error",
     "traceback": [
      "\u001b[0;31m---------------------------------------------------------------------------\u001b[0m",
      "\u001b[0;31mAttributeError\u001b[0m                            Traceback (most recent call last)",
      "\u001b[0;32m<ipython-input-2-3862fed5659d>\u001b[0m in \u001b[0;36m<module>\u001b[0;34m\u001b[0m\n\u001b[1;32m      6\u001b[0m         \u001b[0mprint\u001b[0m\u001b[0;34m(\u001b[0m\u001b[0mch\u001b[0m\u001b[0;34m,\u001b[0m\u001b[0;34m\"\\n\"\u001b[0m\u001b[0;34m)\u001b[0m\u001b[0;34m\u001b[0m\u001b[0;34m\u001b[0m\u001b[0m\n\u001b[1;32m      7\u001b[0m \u001b[0;34m\u001b[0m\u001b[0m\n\u001b[0;32m----> 8\u001b[0;31m \u001b[0mhistogram\u001b[0m\u001b[0;34m(\u001b[0m\u001b[0;34m[\u001b[0m\u001b[0;36m4\u001b[0m\u001b[0;34m,\u001b[0m \u001b[0;36m9\u001b[0m\u001b[0;34m,\u001b[0m \u001b[0;36m13\u001b[0m\u001b[0;34m]\u001b[0m\u001b[0;34m)\u001b[0m\u001b[0;34m\u001b[0m\u001b[0;34m\u001b[0m\u001b[0m\n\u001b[0m",
      "\u001b[0;32m<ipython-input-2-3862fed5659d>\u001b[0m in \u001b[0;36mhistogram\u001b[0;34m(liste)\u001b[0m\n\u001b[1;32m      3\u001b[0m     \u001b[0;32mfor\u001b[0m \u001b[0mi\u001b[0m \u001b[0;32min\u001b[0m \u001b[0mrange\u001b[0m\u001b[0;34m(\u001b[0m\u001b[0;36m0\u001b[0m\u001b[0;34m,\u001b[0m \u001b[0mlen\u001b[0m\u001b[0;34m(\u001b[0m\u001b[0mliste\u001b[0m\u001b[0;34m)\u001b[0m\u001b[0;34m)\u001b[0m\u001b[0;34m:\u001b[0m\u001b[0;34m\u001b[0m\u001b[0;34m\u001b[0m\u001b[0m\n\u001b[1;32m      4\u001b[0m         \u001b[0;32mfor\u001b[0m \u001b[0mk\u001b[0m \u001b[0;32min\u001b[0m \u001b[0mrange\u001b[0m\u001b[0;34m(\u001b[0m\u001b[0;36m0\u001b[0m\u001b[0;34m,\u001b[0m \u001b[0mliste\u001b[0m\u001b[0;34m[\u001b[0m\u001b[0mi\u001b[0m\u001b[0;34m]\u001b[0m\u001b[0;34m)\u001b[0m\u001b[0;34m:\u001b[0m\u001b[0;34m\u001b[0m\u001b[0;34m\u001b[0m\u001b[0m\n\u001b[0;32m----> 5\u001b[0;31m             \u001b[0mch\u001b[0m\u001b[0;34m.\u001b[0m\u001b[0mappend\u001b[0m\u001b[0;34m(\u001b[0m\u001b[0;34m\"*\"\u001b[0m\u001b[0;34m)\u001b[0m\u001b[0;34m\u001b[0m\u001b[0;34m\u001b[0m\u001b[0m\n\u001b[0m\u001b[1;32m      6\u001b[0m         \u001b[0mprint\u001b[0m\u001b[0;34m(\u001b[0m\u001b[0mch\u001b[0m\u001b[0;34m,\u001b[0m\u001b[0;34m\"\\n\"\u001b[0m\u001b[0;34m)\u001b[0m\u001b[0;34m\u001b[0m\u001b[0;34m\u001b[0m\u001b[0m\n\u001b[1;32m      7\u001b[0m \u001b[0;34m\u001b[0m\u001b[0m\n",
      "\u001b[0;31mAttributeError\u001b[0m: 'str' object has no attribute 'append'"
     ]
    }
   ],
   "source": [
    "def histogram(liste):\n",
    "    ch = \"\"\n",
    "    for i in liste:\n",
    "        print '* '\n",
    "        \n",
    "\n",
    "histogram([4, 9, 13])"
   ]
  },
  {
   "cell_type": "code",
   "execution_count": null,
   "id": "9678c8f1",
   "metadata": {},
   "outputs": [],
   "source": []
  }
 ],
 "metadata": {
  "kernelspec": {
   "display_name": "Python 3",
   "language": "python",
   "name": "python3"
  },
  "language_info": {
   "codemirror_mode": {
    "name": "ipython",
    "version": 3
   },
   "file_extension": ".py",
   "mimetype": "text/x-python",
   "name": "python",
   "nbconvert_exporter": "python",
   "pygments_lexer": "ipython3",
   "version": "3.9.5"
  }
 },
 "nbformat": 4,
 "nbformat_minor": 5
}
